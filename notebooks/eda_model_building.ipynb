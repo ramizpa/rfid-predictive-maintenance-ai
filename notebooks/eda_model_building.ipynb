{
  "nbformat": 4,
  "nbformat_minor": 0,
  "metadata": {
    "colab": {
      "provenance": []
    },
    "kernelspec": {
      "name": "python3",
      "display_name": "Python 3"
    },
    "language_info": {
      "name": "python"
    }
  },
  "cells": [
    {
      "cell_type": "code",
      "execution_count": null,
      "metadata": {
        "colab": {
          "base_uri": "https://localhost:8080/"
        },
        "id": "lljUpPjK1L9S",
        "outputId": "75f553e4-eab7-44cb-e59b-4be6dd842ee9"
      },
      "outputs": [
        {
          "output_type": "stream",
          "name": "stdout",
          "text": [
            "              precision    recall  f1-score   support\n",
            "\n",
            "           0       0.91      0.96      0.94      1768\n",
            "           1       0.49      0.26      0.34       232\n",
            "\n",
            "    accuracy                           0.88      2000\n",
            "   macro avg       0.70      0.61      0.64      2000\n",
            "weighted avg       0.86      0.88      0.87      2000\n",
            "\n"
          ]
        },
        {
          "output_type": "execute_result",
          "data": {
            "text/plain": [
              "['../content/model.pkl']"
            ]
          },
          "metadata": {},
          "execution_count": 8
        }
      ],
      "source": [
        "import pandas as pd\n",
        "from sklearn.model_selection import train_test_split\n",
        "from sklearn.ensemble import RandomForestClassifier\n",
        "from sklearn.metrics import classification_report\n",
        "import joblib\n",
        "\n",
        "# Load data\n",
        "df = pd.read_csv(\"../content/rfid_predictive_maintenance_10000.csv\")\n",
        "\n",
        "# Feature engineering\n",
        "df['hour'] = pd.to_datetime(df['timestamp']).dt.hour\n",
        "X = df[['rssi', 'temperature', 'voltage', 'read_rate', 'uptime', 'hour']]\n",
        "y = df['failed']\n",
        "\n",
        "# Split\n",
        "X_train, X_test, y_train, y_test = train_test_split(X, y, test_size=0.2, random_state=42)\n",
        "\n",
        "# Model\n",
        "model = RandomForestClassifier(n_estimators=100, random_state=42)\n",
        "model.fit(X_train, y_train)\n",
        "\n",
        "# Evaluation\n",
        "print(classification_report(y_test, model.predict(X_test)))\n",
        "\n",
        "# Save model\n",
        "joblib.dump(model, \"../content/rfid_failure_model.pkl\")\n"
      ]
    }
  ]
}